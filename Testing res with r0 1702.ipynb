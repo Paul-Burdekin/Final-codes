{
 "cells": [
  {
   "cell_type": "code",
   "execution_count": 74,
   "metadata": {
    "collapsed": true
   },
   "outputs": [],
   "source": [
    "import numpy as np\n",
    "import math\n",
    "import matplotlib.pyplot as plt\n",
    "from scipy.optimize import curve_fit\n",
    "from scipy.integrate import odeint\n",
    "\n",
    "%matplotlib inline"
   ]
  },
  {
   "cell_type": "code",
   "execution_count": 75,
   "metadata": {
    "collapsed": true
   },
   "outputs": [],
   "source": [
    "\"\"\"Constants\"\"\"\n",
    "eps0 = 8.854e-12 #[F/m]\n",
    "eps_rel = 1 #relative permittivity\n",
    "eps = eps0 * eps_rel\n",
    "k = 1/(4*math.pi*eps)\n",
    "e = 1.60217662e-19 #elementary charge [C]\n",
    "h = 6.62607004e-34 #Planck's constant [Js]\n",
    "m_e = 9.10938356e-31 #electron mass [kg]"
   ]
  },
  {
   "cell_type": "code",
   "execution_count": 76,
   "metadata": {
    "collapsed": true
   },
   "outputs": [],
   "source": [
    "\"\"\"Initial parameter functions\"\"\"\n",
    "def seperation_angle(n):\n",
    "    return ( (2*math.pi)/n )\n",
    "\n",
    "def setup_radius(sep, diam, PHI):\n",
    "    return ( (sep + diam)/(2 * math.sin(PHI/2)) )\n",
    "\n",
    "def cog_length( Rp, PHI):\n",
    "    r = ( Rp*math.sin(PHI) )/(4*math.sin(PHI/2))\n",
    "    return r\n",
    "\n",
    "def width( Rp, PHI):\n",
    "    w = ( Rp*math.sin(PHI) )/2\n",
    "    return w\n",
    "\n",
    "def intertia( rho, thc, Rp):\n",
    "    \"\"\"Calculates inertia of inner rotating section (rotor)\"\"\"\n",
    "    m_cog = rho*thc*w*r\n",
    "    m_disc = math.pi * ((Rp-r)**2)*thc*rho\n",
    "    I = m_cog*((r**2) + (w**2)) + p*m_cog*((Rp-(r/2))**2) + m_disc*((Rp-r)**2)\n",
    "    return I"
   ]
  },
  {
   "cell_type": "code",
   "execution_count": 77,
   "metadata": {
    "collapsed": true
   },
   "outputs": [],
   "source": [
    "\"\"\"Motor setup functions\"\"\"\n",
    "\n",
    "def permanent_charge_magnitude( r, width, cap_d, cap_vol):\n",
    "    \"\"\"Calculates magnitude of total charge stored in inner segment\"\"\"\n",
    "    segment_area = (r/2) * width\n",
    "    capacitance = cap_d * segment_area #capacitance of one segment\n",
    "    stored_charge = capacitance * cap_vol #stored charge in one segment\n",
    "    return stored_charge\n",
    "\n",
    "def permanent_charges( Rp, p , cap_d, cap_vol, width, r):\n",
    "    \"\"\"Initializes permanent charge elements\"\"\"\n",
    "    PCs = {}\n",
    "    for i in range(p):\n",
    "        theta = (2*math.pi/p)*i\n",
    "        xp = Rp*math.cos(theta)\n",
    "        yp = Rp*math.sin(theta)\n",
    "        if i%2 == 0:\n",
    "            p_ch = permanent_charge_magnitude( r, width, cap_d, cap_vol)\n",
    "        else:\n",
    "            p_ch = -permanent_charge_magnitude( r, width, cap_d, cap_vol)\n",
    "        PCs.update({i:[xp,yp,theta, p_ch]}) #dictionary containing all info of permanent charges\n",
    "    return PCs\n",
    "\n",
    "def quantum_dots( n, e, noc):\n",
    "    \"\"\"Initializes quantum dot elements\"\"\"\n",
    "    QDs = {}\n",
    "    for i in range(n):\n",
    "        fi = (2*math.pi/n)*i\n",
    "        x = R*math.cos(fi)\n",
    "        y = R*math.sin(fi)\n",
    "        if i in range(1, n, 4): #will result in +ve torque ==> turning anti-clockwise\n",
    "            q_ch = noc*e #number of holes stored in quantum dot\n",
    "        elif i in range(3, n, 4):\n",
    "            q_ch = -noc*e #number of holes stored in quantum dot\n",
    "        else:\n",
    "            q_ch = 0 #neutral quantum dots\n",
    "        QDs.update({i:[x,y,fi,q_ch]}) #dictionary containing all info on QDs\n",
    "    return QDs"
   ]
  },
  {
   "cell_type": "code",
   "execution_count": 81,
   "metadata": {
    "collapsed": true
   },
   "outputs": [],
   "source": [
    "\"\"\"Active motor functions\"\"\"\n",
    "\n",
    "def tangential_component(k , n, e, R, Rp, gamma, noc, width, r):\n",
    "    \"\"\"Calculates the tangential coulomb force on one inner charge\"\"\"\n",
    "    F_c = 0; #coulomb force\n",
    "    F_t = 0 #tangential component of coulumb force\n",
    "    QDs = quantum_dots(n, e, noc) #calls function to initialize QDs\n",
    "    r00 = R - Rp\n",
    "    for i in range(n):\n",
    "        Q = QDs[i] #dictionary section on ith QD\n",
    "        ri = math.sqrt(2*R*(R-r00)*(1-math.cos(QDs[i][2]-gamma))+r00**2) #distance between QD and permanent charge edge\n",
    "        ric = math.sqrt(  ( (Rp-(r/4) )**2) + (R**2) - 2*(Rp-(r/4))*R*math.cos(QDs[i][2]-gamma) ) #distance between QD and permanent charge center\n",
    "        d = 2*R*math.sin((QDs[i][2]-gamma)/2)\n",
    "        '''Alpha is alpha at edge of permanent charge'''\n",
    "        if ((((r00+(r/4))**2)+(ri**2)-(d**2))/(2*(r00+(r/4))*ri)) > 1 or ((((r00+(r/4))**2)+(ri**2)-(d**2))/(2*(r00+(r/4))*ri)) < -1 : #accounts for computational error\n",
    "            alpha = 0\n",
    "        else:\n",
    "            alpha = math.acos((((r00+(r/4))**2)+(ri**2)-(d**2))/(2*(r00+(r/4))*ri)) #angle to tangential in which force vector acts\n",
    "        if i > n/2:\n",
    "            alpha = -alpha        \n",
    "        '''Alphac is alpha at center of permanent charge'''\n",
    "        if ((((r00+(r/4))**2)+(ric**2)-(d**2))/(2*(r00+(r/4))*ric)) > 1 or ((((r00+(r/4))**2)+(ric**2)-(d**2))/(2*(r00+(r/4))*ric)) < -1 : #accounts for computational error\n",
    "            alphac = 0\n",
    "        else:\n",
    "            alphac = math.acos((((r00+(r/4))**2)+(ric**2)-(d**2))/(2*(r00+(r/4))*ric)) #angle to tangential in which force vector acts\n",
    "        if i > n/2:\n",
    "            alphac = -alphac\n",
    "        ex_minus = ri*math.sin(alpha) - (width/2)\n",
    "        ex_plus = ri*math.sin(alpha) + (width/2)\n",
    "        ey_minus = ri*math.cos(alpha)\n",
    "        ey_plus = ri*math.cos(alpha) + (r/2)\n",
    "        sigma = PCs[0][3]/(width*r)\n",
    "        f = force(ex_minus, ex_plus, ey_minus, ey_plus)\n",
    "        #print ( f )\n",
    "        F_c = k*sigma*Q[3]*f #coulomb force between permanent charge and QD\n",
    "        F_t += F_c*math.sin(alphac)\n",
    "    return F_t\n",
    "\n",
    "def force( c1, c2, c3, c4):\n",
    "    a1 = (c4 + math.sqrt((c4**2)+(c1**2)))*(c3 + math.sqrt((c3**2)+(c2**2)))\n",
    "    b1 = (c4 + math.sqrt((c4**2)+(c2**2)))*(c3 + math.sqrt((c3**2)+(c1**2)))\n",
    "    a2 = (c2 + math.sqrt((c2**2)+(c3**2)))*(c1 + math.sqrt((c1**2)+(c4**2)))\n",
    "    b2 = (c2 + math.sqrt((c2**2)+(c4**2)))*(c1 + math.sqrt((c1**2)+(c3**2)))\n",
    "    I1 = math.log(a1/b1)\n",
    "    I2 = math.log(a2/b2)\n",
    "    f = math.sqrt( (I1**2) + (I2**2) )\n",
    "    return f\n",
    "\n",
    "def torque (F_t, Rp, p, r):\n",
    "    \"\"\"Computes torque on enitre inner rotor\"\"\"\n",
    "    torque_radius = Rp - r/4\n",
    "    torque = F_t * torque_radius * p\n",
    "    return torque"
   ]
  },
  {
   "cell_type": "code",
   "execution_count": 79,
   "metadata": {
    "collapsed": true
   },
   "outputs": [],
   "source": [
    "'''Inner section'''\n",
    "cap_d = 0.394    #capacitance density in [F/m^2] of inner segment capacitors\n",
    "rho = 3e3 # desity of inner disc material (approxmiate) [kg/m^3]"
   ]
  },
  {
   "cell_type": "code",
   "execution_count": 82,
   "metadata": {
    "collapsed": true
   },
   "outputs": [],
   "source": [
    "\"\"\"Initial parameters:\"\"\"\n",
    "'''Test lists'''\n",
    "r0_list = []\n",
    "Rp_list = []\n",
    "width_list = []\n",
    "r_list = []\n",
    "I_list = []\n",
    "arclength_list = []\n",
    "color_list = ['b', 'g', 'r', 'c', 'm', 'y']\n",
    "\n",
    "'''QDs'''\n",
    "diam = 10e-9 #diameter of QDs [m]\n",
    "sep = 130e-9 #seperation of QDs [m] (corresponds to motor dead zone)\n",
    "noc = 6 #number of charge carriers contributing to net charge of QD\n",
    "n = 80\n",
    "PHI = seperation_angle(n) #angle of seperation between QDs\n",
    "R = setup_radius(sep, diam, PHI)  #radius of QD setup [m]\n",
    "'''Inner section'''\n",
    "r0 = 110e-9\n",
    "thc = 30e-9   #approximate thickeness of inner disc [m]\n",
    "cap_vol = 2   #applied voltage to capacitors in inner disck (\"permanent charges\"/charged segments) [V]\n",
    "p = int(n/2)\n",
    "\n",
    "i=0\n",
    "end = 250\n",
    "for i in np.arange(0, end):\n",
    "    r0_list.append(r0)\n",
    "    Rp = R - r0   #radius of rotating disc [m]\n",
    "    Rp_list.append(Rp)\n",
    "    arclength = Rp * PHI\n",
    "    arclength_list.append(arclength)\n",
    "    w = width( Rp, PHI) #cog \"tooth\"/capacitor arm width [m]\n",
    "    width_list.append(w)\n",
    "    r = cog_length( Rp, PHI)    #length of the cog shaft [m]\n",
    "    r_list.append(r)\n",
    "    I = intertia( rho, thc, Rp) #inertia of inner rotating disk\n",
    "    I_list.append(I)\n",
    "    r0 += 5e-9"
   ]
  },
  {
   "cell_type": "code",
   "execution_count": 83,
   "metadata": {},
   "outputs": [
    {
     "name": "stdout",
     "output_type": "stream",
     "text": [
      "2.1643298277970314e-14\n"
     ]
    },
    {
     "data": {
      "image/png": "[encoded data removed]",
      "text/plain": [
       "<matplotlib.figure.Figure at 0x2575084f6a0>"
      ]
     },
     "metadata": {},
     "output_type": "display_data"
    }
   ],
   "source": [
    "\"\"\"Main function\"\"\"\n",
    "fig = plt.figure(figsize=(12, 18))\n",
    "ax1 = fig.add_subplot(311)\n",
    "ax2 = fig.add_subplot(312)\n",
    "ax3 = fig.add_subplot(313)\n",
    "\n",
    "ax1.set_xlabel('r0 (m)', fontsize = '20')\n",
    "ax1.set_ylabel('Precision (m)', fontsize = '20')\n",
    "ax2.set_xlabel('r0', fontsize = '20')\n",
    "ax2.set_ylabel('inertia', fontsize = '20')\n",
    "ax3.set_xlabel('r0 (m)', fontsize = '20')\n",
    "ax3.set_ylabel('Initial Torque (N)', fontsize = '20')\n",
    "ax1.set_xlim( 0 , 1.5e-6)\n",
    "ax1.set_ylim( 0 , 1.5e-7)\n",
    "ax2.set_xlim( 0 , 1.5e-6)\n",
    "ax2.set_ylim( 0 , 1.2e-27)\n",
    "ax3.set_xlim( 0 , 1.5e-6)\n",
    "ax3.set_ylim( 0 , 1.2e-14)\n",
    "\n",
    "for i in np.arange(0, len(r0_list) ):\n",
    "    PCs = permanent_charges( Rp_list[i], p , cap_d, cap_vol, width_list[i], r_list[i]) #initializes permanent charges\n",
    "    T = 0\n",
    "    ax1.scatter( r0_list[i], arclength_list[i], color = 'r')\n",
    "    ax2.scatter( r0_list[i], I_list[i], color = 'b')\n",
    "    F_t = tangential_component(k, n, e, R, Rp_list[i], 0, noc, width_list[i], r_list[i])\n",
    "    T = torque(F_t, Rp_list[i], p, r_list[i]) #calculates torque acting on inner rotor at gamma = 0\n",
    "    if (i==0):\n",
    "        print( T )\n",
    "    ax3.scatter(r0_list[i], T , color = 'g' ) #plots torque vs r0\n",
    "plt.show()"
   ]
  },
  {
   "cell_type": "code",
   "execution_count": null,
   "metadata": {
    "collapsed": true
   },
   "outputs": [],
   "source": []
  }
 ],
 "metadata": {
  "kernelspec": {
   "display_name": "Python 3",
   "language": "python",
   "name": "python3"
  },
  "language_info": {
   "codemirror_mode": {
    "name": "ipython",
    "version": 3
   },
   "file_extension": ".py",
   "mimetype": "text/x-python",
   "name": "python",
   "nbconvert_exporter": "python",
   "pygments_lexer": "ipython3",
   "version": "3.6.3"
  }
 },
 "nbformat": 4,
 "nbformat_minor": 2
}
