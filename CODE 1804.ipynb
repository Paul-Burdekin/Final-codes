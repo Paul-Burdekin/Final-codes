{
 "cells": [
  {
   "cell_type": "code",
   "execution_count": 136,
   "metadata": {
    "collapsed": true
   },
   "outputs": [],
   "source": [
    "import numpy as np\n",
    "import math\n",
    "import random\n",
    "import matplotlib.pyplot as plt\n",
    "from scipy.optimize import curve_fit\n",
    "from scipy.integrate import odeint\n",
    "\n",
    "%matplotlib inline"
   ]
  },
  {
   "cell_type": "code",
   "execution_count": 137,
   "metadata": {
    "collapsed": true
   },
   "outputs": [],
   "source": [
    "\"\"\"Constants\"\"\"\n",
    "eps0 = 8.854e-12 #Vacuum permittivity[F/m]\n",
    "e = 1.60217662e-19 #elementary charge [C]\n",
    "h = 6.62607004e-34 #Planck's constant [Js]\n",
    "m_e = 9.10938356e-31 #electron mass [kg]\n",
    "kb = 1.38064852e-23 #Boltzmann constant"
   ]
  },
  {
   "cell_type": "code",
   "execution_count": 138,
   "metadata": {
    "collapsed": true
   },
   "outputs": [],
   "source": [
    "\"\"\"Material dependant constants:\"\"\"\n",
    "'''Fluid'''\n",
    "fluid_density = 0.164 #helium\n",
    "atm = 4.002602 * 1.6605402e-27 #helium atomic mass\n",
    "eta = 1.96e-5 #shear viscosity\n",
    "beta = 0 #bulk viscoisty\n",
    "eps_rel = 1 #relative permittivity\n",
    "eps = eps0 * eps_rel #permittivity of fluid\n",
    "k = 1/(4*math.pi*eps)\n",
    "lp = 17.5e-3 #mean free path * pressure\n",
    "pressure = 101.325e3\n",
    "temp = 298.15\n",
    "A1 = 1.277 #experimentally determined constant used in Cunningham correction factor\n",
    "\n",
    "'''QDs'''\n",
    "#(InAs/GaAs QDs)\n",
    "Rt = (10*h)/(e**2) #tunneling resistance (arbritary value)\n",
    "m_eeff = 0.067 * m_e #electron effective mass [kg]\n",
    "m_heff = 0.34 * m_e #hole effective mass [kg]\n",
    "E_g = 0.36 * 1.60217662e-19 #band gap of QD (InAs bulk) [J]\n",
    "\n",
    "\n",
    "'''Inner section'''\n",
    "cap_d = 0.394    #capacitance density in [F/m^2] of inner segment capacitors\n",
    "rho = 3e3 # desity of inner disc material (approxmiate) [kg/m^3]\n",
    "R_c = 1 #capacitor circuit resistance (arbritary value)"
   ]
  },
  {
   "cell_type": "code",
   "execution_count": 139,
   "metadata": {
    "collapsed": true
   },
   "outputs": [],
   "source": [
    "\"\"\"Initial parameter functions\"\"\"\n",
    "def seperation_angle(n):\n",
    "    \"\"\"angle between each quantum dot\"\"\"\n",
    "    return ( (2*math.pi)/n )\n",
    "\n",
    "def setup_radius(sep, diam, PHI):\n",
    "    \"\"\"motor radius\"\"\"\n",
    "    return ( (sep + diam)/(2 * math.sin(PHI/2)) )\n",
    "\n",
    "def cog_length( Rp, PHI):\n",
    "    \"\"\"length of rotor arm\"\"\"\n",
    "    r = ( Rp*math.sin(PHI) )/(4*math.sin(PHI/2))\n",
    "    return r\n",
    "\n",
    "def width( Rp, PHI):\n",
    "    \"\"\"width of rotor arm\"\"\"\n",
    "    w = ( Rp*math.sin(PHI) )/2\n",
    "    return w\n",
    "\n",
    "def inertia(rho, thc, r, w, Rp, p):\n",
    "    \"\"\"Calculates inertia of inner rotating section (rotor)\"\"\"\n",
    "    m_cog = rho*thc*w*r\n",
    "    m_disc = math.pi * ((Rp-r)**2)*thc*rho\n",
    "    I = m_cog*((r**2) + (w**2)) + p*m_cog*((Rp-(r/2))**2) + m_disc*((Rp-r)**2)\n",
    "    return I"
   ]
  },
  {
   "cell_type": "code",
   "execution_count": 140,
   "metadata": {
    "collapsed": true
   },
   "outputs": [],
   "source": [
    "\"\"\"Motor setup functions\"\"\"\n",
    "\n",
    "def permanent_charge_magnitude( r, width, cap_d, cap_vol):\n",
    "    \"\"\"Calculates magnitude of total charge stored in inner segment\"\"\"\n",
    "    segment_area = (r/2) * width\n",
    "    capacitance = cap_d * segment_area #capacitance of one segment\n",
    "    stored_charge = capacitance * cap_vol #stored charge in one segment\n",
    "    return stored_charge\n",
    "\n",
    "def permanent_charges( Rp, p , cap_d, cap_vol, width, r):\n",
    "    \"\"\"Initializes permanent charge elements\"\"\"\n",
    "    PCs = {}\n",
    "    for i in range(p):\n",
    "        theta = (2*math.pi/p)*i\n",
    "        xp = Rp*math.cos(theta)\n",
    "        yp = Rp*math.sin(theta)\n",
    "        if i%2 == 0:\n",
    "            p_ch = permanent_charge_magnitude( r, width, cap_d, cap_vol)\n",
    "        else:\n",
    "            p_ch = -permanent_charge_magnitude( r, width, cap_d, cap_vol)\n",
    "        PCs.update({i:[xp,yp,theta, p_ch]}) #dictionary containing all info of permanent charges\n",
    "    return PCs\n",
    "\n",
    "def quantum_dots( n, e, noc):\n",
    "    \"\"\"Initializes quantum dot elements\"\"\"\n",
    "    QDs = {}\n",
    "    for i in range(n):\n",
    "        fi = (2*math.pi/n)*i\n",
    "        x = R*math.cos(fi)\n",
    "        y = R*math.sin(fi)\n",
    "        if i in range(1, n, 4): #will result in +ve torque ==> turning anti-clockwise\n",
    "            q_ch = noc*e #number of holes stored in quantum dot\n",
    "        elif i in range(3, n, 4):\n",
    "            q_ch = -noc*e #number of holes stored in quantum dot\n",
    "        else:\n",
    "            q_ch = 0 #neutral quantum dots\n",
    "        QDs.update({i:[x,y,fi,q_ch]}) #dictionary containing all info on QDs\n",
    "    return QDs"
   ]
  },
  {
   "cell_type": "code",
   "execution_count": 141,
   "metadata": {
    "collapsed": true
   },
   "outputs": [],
   "source": [
    "\"\"\"Friction coefficient calculator functions\"\"\"\n",
    "\n",
    "def C(eta0, sigma, Cc):\n",
    "    \"\"\"Calculates frictional coefficient of spheres used to model rotor arm, adjusted by Cunningham correction factor\"\"\"\n",
    "    coef = (6*math.pi*eta0*sigma)/Cc #Stokes drag divided by Cunningham correction\n",
    "    return coef\n",
    "\n",
    "def Cunningham_correction(A1, lp, pressure, temp, R):\n",
    "    \"\"\"Calculates the Cunningham correction factor\"\"\"\n",
    "    l = (lp * temp)/(273.15 * pressure) #mean free path\n",
    "    Kn = l/R #Knudsen number\n",
    "    Cc = 1 + (A1 * Kn) #only valid for Kn<0.4\n",
    "    return Cc    \n",
    "\n",
    "def  f_t(C, eta0, N, s):\n",
    "    \"\"\"Calculates scalar frictional coefficient\"\"\"\n",
    "    f = 1/( (1/(N*C)) + ( s/(6*math.pi*(N**2)*eta0) ) )\n",
    "    return f\n",
    "\n",
    "def average_inverse_sum( position, N):\n",
    "    \"\"\"Determines inverse sum used in calculating f_t\"\"\"\n",
    "    i = 0\n",
    "    j = 0\n",
    "    s = 0\n",
    "    for i in range(N):\n",
    "        for j in range(N):\n",
    "            if ( i == j ):\n",
    "                s += 0\n",
    "            else:\n",
    "                r = r_ij(i, j, position)\n",
    "                s += 1/r\n",
    "    return s\n",
    "\n",
    "def positions(Nx, Ny, sigma):\n",
    "    \"\"\"Postions of spheres\"\"\"\n",
    "    position = {}\n",
    "    i = 0\n",
    "    j = 0\n",
    "    m = 0\n",
    "    for j in range(Ny):\n",
    "        for i in range(Nx):\n",
    "            x = sigma + 2 * i  * sigma\n",
    "            y = sigma + 2 * j * sigma\n",
    "            position.update({m:[x,y]})\n",
    "            m += 1\n",
    "    return position\n",
    "\n",
    "def r_ij(i, j, position):\n",
    "    \"\"\"Distance between spheres\"\"\"\n",
    "    distance = math.sqrt( ((position[i][0]-position[j][0])**2) + ((position[i][1]-position[j][1])**2) )\n",
    "    return distance\n",
    "\n",
    "def friction_function(eta, thc, width, Cc):\n",
    "    \"\"\"Calculates scalar frictional coefficient of one arm\"\"\"\n",
    "    m = 10 #how many times calculation iterates, higher m = higher precision and accuracy but takes longer\n",
    "    sigma = 5e-9 #starting radius of spheres\n",
    "    sigmax = sigma/(m+2) #used to store smaller radius of spheres \n",
    "    Nx = int(width/(2*sigmax)) #number of spheres in the 'x' direction\n",
    "    Ny = int(thc/(2*sigmax)) #number of spheres in the 'y' direction\n",
    "    N = Nx * Ny #total number of spheres\n",
    "    const = C(eta, sigmax, Cc)\n",
    "    coord = positions(Nx, Ny, sigmax) #determines the positions of the centers of the spheres\n",
    "    s = average_inverse_sum(coord, N)\n",
    "    friction = f_t(const, eta, N, s)\n",
    "    return (friction) #returns scalar frictional coefficient"
   ]
  },
  {
   "cell_type": "code",
   "execution_count": 142,
   "metadata": {
    "collapsed": true
   },
   "outputs": [],
   "source": [
    "\"\"\"Active motor functions: torque\"\"\"\n",
    "\n",
    "def tangential_component(k , n, e, R, Rp, gamma, noc, width, r):\n",
    "    \"\"\"Calculates the tangential coulomb force on one inner charge\"\"\"\n",
    "    F_c = 0; #coulomb force\n",
    "    F_t = 0 #tangential component of coulumb force\n",
    "    QDs = quantum_dots(n, e, noc) #calls function to initialize QDs\n",
    "    for i in range(n):\n",
    "        Q = QDs[i] #dictionary section on ith QD\n",
    "        ri = math.sqrt(2*R*(R-r0)*(1-math.cos(QDs[i][2]-gamma))+r0**2) #distance between QD and permanent charge edge\n",
    "        ric = math.sqrt(  ( (Rp-(r/4) )**2) + (R**2) - 2*(Rp-(r/4))*R*math.cos(QDs[i][2]-gamma) ) #distance between QD and permanent charge center\n",
    "        d = 2*R*math.sin((QDs[i][2]-gamma)/2)\n",
    "        '''Alpha is alpha at edge of permanent charge'''\n",
    "        if ((((r0+(r/4))**2)+(ri**2)-(d**2))/(2*(r0+(r/4))*ri)) > 1 or ((((r0+(r/4))**2)+(ri**2)-(d**2))/(2*(r0+(r/4))*ri)) < -1 : #accounts for computational error\n",
    "            alpha = 0\n",
    "        else:\n",
    "            alpha = math.acos((((r0+(r/4))**2)+(ri**2)-(d**2))/(2*(r0+(r/4))*ri)) #angle to tangential in which force vector acts\n",
    "        if i > n/2:\n",
    "            alpha = -alpha        \n",
    "        '''Alphac is alpha at center of permanent charge'''\n",
    "        if ((((r0+(r/4))**2)+(ric**2)-(d**2))/(2*(r0+(r/4))*ric)) > 1 or ((((r0+(r/4))**2)+(ric**2)-(d**2))/(2*(r0+(r/4))*ric)) < -1 : #accounts for computational error\n",
    "            alphac = 0\n",
    "        else:\n",
    "            alphac = math.acos((((r0+(r/4))**2)+(ric**2)-(d**2))/(2*(r0+(r/4))*ric)) #angle to tangential in which torque vector acts\n",
    "        if i > n/2:\n",
    "            alphac = -alphac\n",
    "        '''boundaries of the capacitor arm'''\n",
    "        ex_minus = ri*math.sin(alpha) - (width/2) \n",
    "        ex_plus = ri*math.sin(alpha) + (width/2)\n",
    "        ey_minus = ri*math.cos(alpha)\n",
    "        ey_plus = ri*math.cos(alpha) + (r/2)\n",
    "        sigma = PCs[0][3]/(width*r)\n",
    "        f = force(ex_minus, ex_plus, ey_minus, ey_plus)\n",
    "        F_c = k*sigma*Q[3]*f #coulomb force between permanent charge and QD\n",
    "        F_t += F_c*math.sin(alphac) #determines tangential component\n",
    "    return F_t\n",
    "\n",
    "def force( c1, c2, c3, c4):\n",
    "    \"\"\"Part of Coulomb force calculation, taking into account the charge distribution of the capacitor arms\"\"\"\n",
    "    a1 = (c4 + math.sqrt((c4**2)+(c1**2)))*(c3 + math.sqrt((c3**2)+(c2**2)))\n",
    "    b1 = (c4 + math.sqrt((c4**2)+(c2**2)))*(c3 + math.sqrt((c3**2)+(c1**2)))\n",
    "    a2 = (c2 + math.sqrt((c2**2)+(c3**2)))*(c1 + math.sqrt((c1**2)+(c4**2)))\n",
    "    b2 = (c2 + math.sqrt((c2**2)+(c4**2)))*(c1 + math.sqrt((c1**2)+(c3**2)))\n",
    "    I1 = math.log(a1/b1)\n",
    "    I2 = math.log(a2/b2)\n",
    "    f = math.sqrt( (I1**2) + (I2**2) )\n",
    "    return f\n",
    "\n",
    "def torque (F_t, Rp, p, r):\n",
    "    \"\"\"Computes torque on enitre inner rotor\"\"\"\n",
    "    torque_radius = Rp - r/4\n",
    "    torque = F_t * torque_radius * p\n",
    "    return torque"
   ]
  },
  {
   "cell_type": "code",
   "execution_count": 157,
   "metadata": {
    "collapsed": true
   },
   "outputs": [],
   "source": [
    "\"\"\"Active motor functions: energy\"\"\"\n",
    "\n",
    "def Charging_voltage_QD( n, e, Cdot):\n",
    "    \"\"\"Constant voltage required to maintain QD charge\"\"\"\n",
    "    QDs = quantum_dots(n,e, noc) #calls function to initialize QDs\n",
    "    voltage = ( QDs[0][3]/(2*Cdot) ) #voltage needed to add one electron\n",
    "    return voltage\n",
    "\n",
    "def QD_capacitance( eps, d):\n",
    "    \"\"\"Capacitance of single quantum dot\"\"\"\n",
    "    Cdot = 2*math.pi*eps*d\n",
    "    return Cdot\n",
    "\n",
    "def Capacitor_charging_time( R, C):\n",
    "    \"Computes charging time for capacitors\"\n",
    "    tc = 4 * R * C\n",
    "    return tc\n",
    "\n",
    "def Dot_charging_time( Rt, Cdot):\n",
    "    \"Computes charging/discharging time for QDs\"\n",
    "    td = Rt * Cdot\n",
    "    return td\n",
    "\n",
    "def Input_energy (n, e, Cdot, Rt, h, m_eeff, diam, E_g, m_heff, noc, cap_vol, R_c):\n",
    "    \"\"\"Input power for each step\"\"\"\n",
    "    #for capacitor charging\n",
    "    E_cC = (PCs[0][3] * cap_vol)\n",
    "    #for -ve charged dots, energy corresponds to that needed to the required voltage to cause electrons to tunnel into the dot\n",
    "    E_cQD = (Charging_voltage_QD( n, e, Cdot) * noc * e )\n",
    "    #for +ve charged dots, energy corresponds to laser energy plus voltage emergy to make electrons tunnel out of the dot\n",
    "    #laser energy depends on bandgap/energy level seperation\n",
    "    if (noc % 2 == 0):\n",
    "        J = noc/2\n",
    "    else:\n",
    "        J = (noc + 1)/2\n",
    "    \n",
    "    E_l = E_g + ((h**2)*J/(8*m_eeff*(diam**2))) + ((h**2)*J/(8*m_heff*(diam**2)))\n",
    "    E_intotal = (E_l * (n/4)) + ( (n/2) * (E_cQD + E_cC) )\n",
    "    return E_intotal\n",
    "\n",
    "def Output_power(angv, torque):\n",
    "    \"\"\"Power output by the motor\"\"\"\n",
    "    return angv * torque\n",
    "\n",
    "def efficiency(E_in, E_out):\n",
    "    \"\"\"Efficiency of motor\"\"\"\n",
    "    eff = (E_out/E_in)\n",
    "    return eff"
   ]
  },
  {
   "cell_type": "code",
   "execution_count": 144,
   "metadata": {
    "collapsed": true
   },
   "outputs": [],
   "source": [
    "\"\"\"Mathematical functions\"\"\"\n",
    "\n",
    "def func(x, A, B, C, D, E, F, G, H, J, K, L):\n",
    "    return A * (x**10) + B * (x**9) + C * (x**8)+ D * (x**7) + E * (x**6) + F * (x**5) + G * (x**4) + H * (x**3) + J * (x**2) + K * x + L \n",
    "\n",
    "def solvr( Y, t, params):\n",
    "    const, A, B, C, D, E, F, G, H, J, K, L = params\n",
    "    return [ Y[1], ( A * (Y[0]**10) + B * (Y[0]**9) + C * (Y[0]**8)+ D * (Y[0]**7) + E * (Y[0]**6) + F * (Y[0]**5) + G * (Y[0]**4) + H * (Y[0]**3) + J * (Y[0]**2) + K * Y[0] + L - const * Y[1]) ]"
   ]
  },
  {
   "cell_type": "code",
   "execution_count": 145,
   "metadata": {},
   "outputs": [
    {
     "name": "stdout",
     "output_type": "stream",
     "text": [
      "2.2724862450340992e-10\n"
     ]
    }
   ],
   "source": [
    "\"\"\"Initial parameters:\"\"\"\n",
    "'''QDs'''\n",
    "diam = 10e-9 #diameter of QDs [m]\n",
    "sep = 130e-9 #seperation of QDs [m] (corresponds to motor dead zone)\n",
    "n = 80   #number of QDs [no unit]\n",
    "PHI = seperation_angle(n) #angle of seperation between QDs\n",
    "R = setup_radius(sep, diam, PHI)  #radius of QD setup [m] 5.36290830288e-07\n",
    "noc = 6 #number of charge carriers contributing to net charge of QD\n",
    "'''Inner section'''\n",
    "p = int(n/2)   #number of permanent charges (PCs) [no unit]\n",
    "r0 = 110e-9 #distance between outer QD ring and edge of capacitor arms\n",
    "Rp = R - r0   #radius of rotating disc [m]\n",
    "w = width( Rp, PHI )#cog \"tooth\"/capacitor arm width [m]\n",
    "r = cog_length( Rp, PHI)    #length of the cog shaft [m]\n",
    "thc = 30e-9   #approximate thickeness of inner disc [m]\n",
    "cap_vol = 2   #applied voltage to capacitors in inner disck (\"permanent charges\"/charged segments) [V]\n",
    "I = inertia(rho, thc, r, w, Rp, p) #inertia of inner rotating disk\n",
    "'''Medium'''\n",
    "Cc = Cunningham_correction(A1, lp, pressure, temp, R)\n",
    "cof = friction_function(eta, thc, w, Cc)\n",
    "constant =  p * cof  #coefficient of drag force function\n",
    "print (constant)"
   ]
  },
  {
   "cell_type": "code",
   "execution_count": 146,
   "metadata": {},
   "outputs": [
    {
     "data": {
      "image/png": "[encoded data removed]",
      "text/plain": [
       "<matplotlib.figure.Figure at 0x23f36726048>"
      ]
     },
     "metadata": {},
     "output_type": "display_data"
    }
   ],
   "source": [
    "\"\"\"Main function\"\"\"\n",
    "step = seperation_angle(n) #angle between each QD, angle required for one step\n",
    "angle_increment = step/100 #angle to be incremented when producing torque function \n",
    "PCs = permanent_charges( Rp, p , cap_d, cap_vol, w, r) #initializes permanent charges\n",
    "\n",
    "\"\"\"Graph of torque function to be approximated\"\"\"\n",
    "fig = plt.figure(figsize=(12, 9))\n",
    "ax1 = fig.add_subplot(111)\n",
    "ax1.set_xlabel('gamma (rad)', fontsize = '20')\n",
    "ax1.set_ylabel('torque (N)', fontsize = '20')\n",
    "ax1.set_xlim( 0 , step )\n",
    "ax1.set_ylim( 0 , 3e-14)\n",
    "\n",
    "\"\"\"Computation of 'true' torque \"\"\"\n",
    "i = 0\n",
    "T = []\n",
    "gamma_list = []\n",
    "for gamma in np.arange(0, step, angle_increment): #iterates angle increment until one step is completed\n",
    "    gamma_list.append( gamma ) #list storing values of the angle\n",
    "    F_t = tangential_component(k , n, e, R, Rp, gamma, noc, w, r) #determines tangential component of Coulomb force\n",
    "    T.append( torque(F_t, Rp, p, r) ) #calculates torque acting on inner rotor\n",
    "    ax1.scatter(gamma, T[i] , color = 'r') #plots torque vs angle rotated\n",
    "    i += 1 #needed to keep track of T array\n",
    "\n",
    "plt.show()"
   ]
  },
  {
   "cell_type": "code",
   "execution_count": 147,
   "metadata": {},
   "outputs": [
    {
     "name": "stderr",
     "output_type": "stream",
     "text": [
      "C:\\Users\\Pauli\\Anaconda3\\lib\\site-packages\\matplotlib\\cbook\\deprecation.py:106: MatplotlibDeprecationWarning: Adding an axes using the same arguments as a previous axes currently reuses the earlier instance.  In a future version, a new instance will always be created and returned.  Meanwhile, this warning can be suppressed, and the future behavior ensured, by passing a unique label to each axes instance.\n",
      "  warnings.warn(message, mplDeprecation, stacklevel=1)\n"
     ]
    },
    {
     "data": {
      "image/png": "[encoded data removed]",
      "text/plain": [
       "<matplotlib.figure.Figure at 0x23f2e934438>"
      ]
     },
     "metadata": {},
     "output_type": "display_data"
    }
   ],
   "source": [
    "\"\"\"Approximate torque function\"\"\"\n",
    "\"\"\"Approximate torque function\"\"\"\n",
    "popt, pcov = curve_fit(func, gamma_list, T)\n",
    "#print (Rp, w, r)\n",
    "A = popt[0]\n",
    "B = popt[1]\n",
    "C = popt[2]\n",
    "D = popt[3]\n",
    "E = popt[4]\n",
    "F = popt[5]\n",
    "G = popt[6]\n",
    "H = popt[7]\n",
    "J = popt[8]\n",
    "K = popt[9]\n",
    "L = popt[10]\n",
    "\n",
    "fig2 = plt.figure(figsize=(12, 9))\n",
    "bx1 = fig2.add_subplot(111)\n",
    "bx2 = fig2.add_subplot(111)\n",
    "bx1.set_xlabel('gamma', fontsize = '20')\n",
    "bx1.set_ylabel('torque', fontsize = '20')\n",
    "bx1.set_ylim( 0 , 3e-14)\n",
    "for i in np.arange( 0, int(step/angle_increment) ):\n",
    "    bx1.scatter( gamma_list[i], T[i], color = 'r' )\n",
    "    bx2.scatter( gamma_list[i], ( func(gamma_list[i], A, B, C, D, E, F, G, H, J, K, L) ), color= 'g' )\n",
    "plt.show()"
   ]
  },
  {
   "cell_type": "code",
   "execution_count": 148,
   "metadata": {},
   "outputs": [],
   "source": [
    "\"\"\"Solve ODE for motor with viscous drag\"\"\"\n",
    "params = [ (constant*((Rp-(r/4))/2))/I , A/I, B/I, C/I, D/I, E/I, F/I, G/I, H/I, J/I, K/I, L/I ]\n",
    "tStop = 1e-2\n",
    "tInc = 1e-6\n",
    "t_array = np.arange( 0, tStop, tInc)\n",
    "sol = odeint( solvr, [0,0], t_array, args=(params,) )"
   ]
  },
  {
   "cell_type": "code",
   "execution_count": 149,
   "metadata": {},
   "outputs": [
    {
     "name": "stdout",
     "output_type": "stream",
     "text": [
      "0.07853981633974483\n",
      "10000\n",
      "2708\n",
      "[ 0.0785398   0.05135251]\n"
     ]
    }
   ],
   "source": [
    "keep_i = 0\n",
    "for i in np.arange( 0, len(t_array) ):\n",
    "    if sol[i][0] >= step:\n",
    "        keep_i = i\n",
    "        break\n",
    "    else:\n",
    "        keep_i = len(t_array)\n",
    "\n",
    "print (step)\n",
    "print (len(t_array))\n",
    "print (keep_i)\n",
    "snipped_sol = np.zeros((keep_i, 2))\n",
    "snipped_sol = sol[:keep_i]\n",
    "print (snipped_sol[keep_i-1])"
   ]
  },
  {
   "cell_type": "code",
   "execution_count": 150,
   "metadata": {},
   "outputs": [
    {
     "data": {
      "image/png": "[encoded data removed]",
      "text/plain": [
       "<matplotlib.figure.Figure at 0x23f2eb9b048>"
      ]
     },
     "metadata": {},
     "output_type": "display_data"
    }
   ],
   "source": [
    "\"\"\"Plot solution\"\"\"\n",
    "fig3 = plt.figure(figsize=(12, 9))\n",
    "cx1 = fig3.add_subplot(211)\n",
    "cx1.set_xlabel('time')\n",
    "cx1.set_ylabel('gamma')\n",
    "cx1.set_ylim( 0 , step )\n",
    "cx1.set_xlim( 0 , t_array[keep_i-1] )\n",
    "cx2 = fig3.add_subplot(212)\n",
    "cx2.set_xlabel('time')\n",
    "cx2.set_ylabel('w')\n",
    "cx2.set_ylim( 0 , 150 )\n",
    "cx2.set_xlim( 0 , t_array[keep_i-1] )\n",
    "for i in np.arange( 0, len(snipped_sol) ):\n",
    "    cx1.scatter( t_array[i], snipped_sol[i][0], color='r' )\n",
    "    cx2.scatter( t_array[i], snipped_sol[i][1], color='b' )\n",
    "plt.show()"
   ]
  },
  {
   "cell_type": "code",
   "execution_count": 151,
   "metadata": {},
   "outputs": [
    {
     "data": {
      "image/png": "[encoded data removed]",
      "text/plain": [
       "<matplotlib.figure.Figure at 0x23f2eaaf1d0>"
      ]
     },
     "metadata": {},
     "output_type": "display_data"
    }
   ],
   "source": [
    "fig4 = plt.figure(figsize=(12, 9))\n",
    "dx1 = fig4.add_subplot(111)\n",
    "dx1.set_xlabel('gamma')\n",
    "dx1.set_ylabel('w')\n",
    "dx1.set_ylim( 0 , 150 )\n",
    "dx1.set_xlim( 0 , PHI)\n",
    "\n",
    "for i in np.arange( 0, len(snipped_sol) ):\n",
    "    dx1.scatter( snipped_sol[i][0], snipped_sol[i][1], color='r' )\n",
    "    \n",
    "plt.show()"
   ]
  },
  {
   "cell_type": "code",
   "execution_count": 152,
   "metadata": {},
   "outputs": [
    {
     "data": {
      "image/png": "[encoded data removed]",
      "text/plain": [
       "<matplotlib.figure.Figure at 0x23f38625240>"
      ]
     },
     "metadata": {},
     "output_type": "display_data"
    }
   ],
   "source": [
    "fig5 = plt.figure(figsize=(12, 9))\n",
    "ex1 = fig5.add_subplot(111)\n",
    "ex1.set_xlabel('t')\n",
    "ex1.set_ylabel('P_out')\n",
    "ex1.set_ylim( 0 , 3e-12 )\n",
    "ex1.set_xlim( 0 , t_array[keep_i] )\n",
    "p_out_list = []\n",
    "p_out = 0\n",
    "for i in np.arange( 0, len(snipped_sol) ):\n",
    "    p_out = Output_power(snipped_sol[i][1], func(snipped_sol[i][0], A, B, C, D, E, F, G, H, J, K, L) )\n",
    "    #print (p_out)\n",
    "    ex1.scatter( t_array[i], p_out, color='r' )\n",
    "    p_out_list.append(p_out)\n",
    "    \n",
    "plt.show()"
   ]
  },
  {
   "cell_type": "code",
   "execution_count": 153,
   "metadata": {},
   "outputs": [
    {
     "name": "stdout",
     "output_type": "stream",
     "text": [
      "1.20014051575e-15\n"
     ]
    }
   ],
   "source": [
    "E_OUT = 0\n",
    "for i in np.arange( 0, len(snipped_sol) ):\n",
    "    E_OUT += p_out_list[i] * tInc\n",
    "\n",
    "print (E_OUT)"
   ]
  },
  {
   "cell_type": "code",
   "execution_count": 158,
   "metadata": {},
   "outputs": [
    {
     "name": "stdout",
     "output_type": "stream",
     "text": [
      "1.7291137703544988e-12\n"
     ]
    }
   ],
   "source": [
    "\"\"\"Computes input power for each step\"\"\"\n",
    "Cdot = QD_capacitance( eps, diam)\n",
    "E_in = Input_energy (n, e, Cdot, Rt, h, m_eeff, diam, E_g, m_heff, noc, cap_vol, R_c)\n",
    "print (E_in) #total input energy"
   ]
  },
  {
   "cell_type": "code",
   "execution_count": 159,
   "metadata": {},
   "outputs": [
    {
     "name": "stdout",
     "output_type": "stream",
     "text": [
      "4.3227799273680746e-14\n",
      "1.4360006230703687e-13\n"
     ]
    }
   ],
   "source": [
    "cap_area = (r/2) * w\n",
    "C = cap_d * cap_area #capacitance of one segment\n",
    "tc = Capacitor_charging_time( R_c, C)\n",
    "print(tc)\n",
    "td = Dot_charging_time( Rt, Cdot)\n",
    "print(td)"
   ]
  },
  {
   "cell_type": "code",
   "execution_count": 160,
   "metadata": {},
   "outputs": [
    {
     "name": "stdout",
     "output_type": "stream",
     "text": [
      "0.00270800000014\n",
      "0.216640000011\n",
      "4.6159527324\n"
     ]
    }
   ],
   "source": [
    "time_step = 0\n",
    "time_step = td + t_array[keep_i]\n",
    "print (time_step)\n",
    "period = 0\n",
    "period = time_step * n\n",
    "print (period)\n",
    "frequency = 0\n",
    "frequency = 1/period\n",
    "print (frequency)"
   ]
  }
 ],
 "metadata": {
  "kernelspec": {
   "display_name": "Python 3",
   "language": "python",
   "name": "python3"
  },
  "language_info": {
   "codemirror_mode": {
    "name": "ipython",
    "version": 3
   },
   "file_extension": ".py",
   "mimetype": "text/x-python",
   "name": "python",
   "nbconvert_exporter": "python",
   "pygments_lexer": "ipython3",
   "version": "3.6.3"
  }
 },
 "nbformat": 4,
 "nbformat_minor": 2
}
